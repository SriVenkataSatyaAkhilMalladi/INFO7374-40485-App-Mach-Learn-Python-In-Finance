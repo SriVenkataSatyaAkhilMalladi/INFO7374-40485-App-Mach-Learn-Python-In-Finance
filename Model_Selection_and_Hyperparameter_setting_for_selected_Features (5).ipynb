{
  "cells": [
    {
      "cell_type": "code",
      "execution_count": 61,
      "metadata": {
        "id": "HDm4nm3FWEdU"
      },
      "outputs": [],
      "source": [
        "import numpy as np\n",
        "import pandas as pd\n",
        "from sklearn.linear_model import Ridge, Lasso\n",
        "from sklearn.ensemble import RandomForestRegressor\n",
        "import xgboost as xgb\n",
        "from sklearn.model_selection import train_test_split\n",
        "from sklearn.metrics import mean_squared_error\n",
        "import matplotlib.pyplot as plt\n",
        "import seaborn as sns\n",
        "import statsmodels.api as sm\n",
        "\n"
      ]
    },
    {
      "cell_type": "code",
      "execution_count": 62,
      "metadata": {
        "id": "uQ1lBLaGWI9T"
      },
      "outputs": [],
      "source": [
        "# Load your dataset\n",
        "data = pd.read_csv('/Meta_Stock_Analysis_Data.csv')\n",
        "\n"
      ]
    },
    {
      "cell_type": "code",
      "execution_count": 63,
      "metadata": {
        "id": "0KXXegUDYyVz"
      },
      "outputs": [],
      "source": [
        "import pandas as pd\n",
        "\n",
        "# Assuming your DataFrame is called 'data'\n",
        "\n",
        "# Drop rows where 'Returns' column has null values\n",
        "data.dropna(subset=['Returns'], inplace=True)\n",
        "\n",
        "# Drop rows where 'VolumeMovingAverage_10' column has null values\n",
        "data.dropna(subset=['VolumeMovingAverage_10'], inplace=True)\n",
        "\n",
        "# Drop rows where 'PriceLag_1' column has null values\n",
        "data.dropna(subset=['PriceLag_1'], inplace=True)\n",
        "\n",
        "# Drop rows where 'ReturnLag_1' column has null values\n",
        "data.dropna(subset=['ReturnLag_1'], inplace=True)\n",
        "\n",
        "# Drop rows where 'PriceLag_3' column has null values\n",
        "data.dropna(subset=['PriceLag_3'], inplace=True)\n",
        "\n",
        "# Drop rows where 'ReturnLag_3' column has null values\n",
        "data.dropna(subset=['ReturnLag_3'], inplace=True)\n",
        "\n",
        "# Drop rows where 'PriceLag_5' column has null values\n",
        "data.dropna(subset=['PriceLag_5'], inplace=True)\n",
        "\n",
        "# Drop rows where 'ReturnLag_5' column has null values\n",
        "data.dropna(subset=['ReturnLag_5'], inplace=True)\n"
      ]
    },
    {
      "cell_type": "code",
      "execution_count": 64,
      "metadata": {
        "id": "o3zBIfoXXm-s"
      },
      "outputs": [],
      "source": [
        "data.drop(\"Date\", axis=1, inplace=True)"
      ]
    },
    {
      "cell_type": "code",
      "execution_count": 65,
      "metadata": {
        "id": "4VRaDAJ-ZD4H"
      },
      "outputs": [],
      "source": [
        "data['Volatility']=np.log10(data['Volatility'])\n",
        "data['HighLowRange']=np.log10(data['HighLowRange'])\n",
        "data['VolumeMovingAverage_10']=np.log10(data['VolumeMovingAverage_10'])\n",
        "data['UNRATE']=np.log10(data['UNRATE'])"
      ]
    },
    {
      "cell_type": "code",
      "source": [
        "# Calculate the difference between Close and Open prices\n",
        "data['PriceDiff'] = data['Close'] - data['Open']\n",
        "\n",
        "# Create categorical variables for positive and negative differences\n",
        "data['PriceDiff_Positive'] = data['PriceDiff'].apply(lambda x: 1 if x > 0 else 0)\n",
        "data['PriceDiff_Negative'] = data['PriceDiff'].apply(lambda x: 1 if x < 0 else 0)\n",
        "\n",
        "# Drop the original 'PriceDiff' column if needed\n",
        "data.drop('PriceDiff', axis=1, inplace=True)\n"
      ],
      "metadata": {
        "id": "BOOWvoxvXldd"
      },
      "execution_count": 66,
      "outputs": []
    },
    {
      "cell_type": "code",
      "source": [
        "print(data.columns)"
      ],
      "metadata": {
        "colab": {
          "base_uri": "https://localhost:8080/"
        },
        "id": "V00QafAQjkc9",
        "outputId": "856a3c61-d06d-4574-c5e2-7ec14a163693"
      },
      "execution_count": 67,
      "outputs": [
        {
          "output_type": "stream",
          "name": "stdout",
          "text": [
            "Index(['Unnamed: 0', 'Open', 'High', 'Low', 'Close', 'Adj Close', 'Volume',\n",
            "       'Returns', 'MovingAverage_50', 'MovingAverage_200', 'VolumeChange',\n",
            "       'VolumeMovingAverage_50', 'VolumeMovingAverage_200', 'MarketReturns',\n",
            "       'CAPM', 'HighLowRange', 'HighCloseRange', 'LowCloseRange', 'Volatility',\n",
            "       'RSI', 'Momentum', 'VolumeMovingAverage_10', 'PriceLag_1',\n",
            "       'ReturnLag_1', 'PriceLag_3', 'ReturnLag_3', 'PriceLag_5', 'ReturnLag_5',\n",
            "       'Mkt-RF', 'SMB', 'HML', 'RMW', 'CMA', 'RF', 'ADS_Index', 'UNRATE',\n",
            "       '('Adj Close', 'SNAP')', '('Adj Close', 'TCEHY')', '('Close', 'SNAP')',\n",
            "       '('Close', 'TCEHY')', '('High', 'SNAP')', '('High', 'TCEHY')',\n",
            "       '('Low', 'SNAP')', '('Low', 'TCEHY')', '('Open', 'SNAP')',\n",
            "       '('Open', 'TCEHY')', '('Volume', 'SNAP')', '('Volume', 'TCEHY')',\n",
            "       'PriceDiff_Positive', 'PriceDiff_Negative'],\n",
            "      dtype='object')\n"
          ]
        }
      ]
    },
    {
      "cell_type": "code",
      "execution_count": 68,
      "metadata": {
        "id": "wj6KrU0JZ4-Y"
      },
      "outputs": [],
      "source": [
        "columns_to_keep = ['Open','Volume','VolumeChange','CAPM','Momentum','MovingAverage_50', 'Volatility', 'PriceLag_1','ReturnLag_5', 'PriceDiff_Negative']\n",
        "\n",
        "  #['Open', 'MovingAverage_50', 'HighLowRange', 'Volatility', 'PriceLag_1', \"('High', 'TCEHY')\", \"('Low', 'SNAP')\",'PriceDiff_Positive']\n",
        "\n",
        "# Assuming your DataFrame is named 'df'\n",
        "data = data[columns_to_keep].reset_index(drop=True)\n"
      ]
    },
    {
      "cell_type": "code",
      "source": [
        "data.head()"
      ],
      "metadata": {
        "colab": {
          "base_uri": "https://localhost:8080/",
          "height": 206
        },
        "id": "VRtpTs5weA-a",
        "outputId": "0795baeb-a875-44ea-cec4-15e1312ce1e1"
      },
      "execution_count": 69,
      "outputs": [
        {
          "output_type": "execute_result",
          "data": {
            "text/plain": [
              "        Open    Volume  VolumeChange      CAPM   Momentum  MovingAverage_50  \\\n",
              "0  28.889999  41855500     -0.625082  0.019913        NaN               NaN   \n",
              "1  27.200001  35230300     -0.158287  0.019948 -11.330000               NaN   \n",
              "2  26.700001  42473400      0.205593  0.019939  -8.159998               NaN   \n",
              "3  26.070000  61489200      0.447711  0.020017  -4.190001               NaN   \n",
              "4  27.000000  26159500     -0.574568  0.019960  -5.690001               NaN   \n",
              "\n",
              "   Volatility  PriceLag_1  ReturnLag_5  PriceDiff_Negative  \n",
              "0    0.069421   29.600000     0.032187                   1  \n",
              "1   -0.093306   27.719999    -0.033909                   1  \n",
              "2    0.127105   26.900000    -0.096208                   1  \n",
              "3    0.041393   25.870001    -0.022538                   0  \n",
              "4   -0.096910   26.809999     0.050018                   1  "
            ],
            "text/html": [
              "\n",
              "  <div id=\"df-772a8525-f3be-4b22-bbd6-dd3d4f200f19\">\n",
              "    <div class=\"colab-df-container\">\n",
              "      <div>\n",
              "<style scoped>\n",
              "    .dataframe tbody tr th:only-of-type {\n",
              "        vertical-align: middle;\n",
              "    }\n",
              "\n",
              "    .dataframe tbody tr th {\n",
              "        vertical-align: top;\n",
              "    }\n",
              "\n",
              "    .dataframe thead th {\n",
              "        text-align: right;\n",
              "    }\n",
              "</style>\n",
              "<table border=\"1\" class=\"dataframe\">\n",
              "  <thead>\n",
              "    <tr style=\"text-align: right;\">\n",
              "      <th></th>\n",
              "      <th>Open</th>\n",
              "      <th>Volume</th>\n",
              "      <th>VolumeChange</th>\n",
              "      <th>CAPM</th>\n",
              "      <th>Momentum</th>\n",
              "      <th>MovingAverage_50</th>\n",
              "      <th>Volatility</th>\n",
              "      <th>PriceLag_1</th>\n",
              "      <th>ReturnLag_5</th>\n",
              "      <th>PriceDiff_Negative</th>\n",
              "    </tr>\n",
              "  </thead>\n",
              "  <tbody>\n",
              "    <tr>\n",
              "      <th>0</th>\n",
              "      <td>28.889999</td>\n",
              "      <td>41855500</td>\n",
              "      <td>-0.625082</td>\n",
              "      <td>0.019913</td>\n",
              "      <td>NaN</td>\n",
              "      <td>NaN</td>\n",
              "      <td>0.069421</td>\n",
              "      <td>29.600000</td>\n",
              "      <td>0.032187</td>\n",
              "      <td>1</td>\n",
              "    </tr>\n",
              "    <tr>\n",
              "      <th>1</th>\n",
              "      <td>27.200001</td>\n",
              "      <td>35230300</td>\n",
              "      <td>-0.158287</td>\n",
              "      <td>0.019948</td>\n",
              "      <td>-11.330000</td>\n",
              "      <td>NaN</td>\n",
              "      <td>-0.093306</td>\n",
              "      <td>27.719999</td>\n",
              "      <td>-0.033909</td>\n",
              "      <td>1</td>\n",
              "    </tr>\n",
              "    <tr>\n",
              "      <th>2</th>\n",
              "      <td>26.700001</td>\n",
              "      <td>42473400</td>\n",
              "      <td>0.205593</td>\n",
              "      <td>0.019939</td>\n",
              "      <td>-8.159998</td>\n",
              "      <td>NaN</td>\n",
              "      <td>0.127105</td>\n",
              "      <td>26.900000</td>\n",
              "      <td>-0.096208</td>\n",
              "      <td>1</td>\n",
              "    </tr>\n",
              "    <tr>\n",
              "      <th>3</th>\n",
              "      <td>26.070000</td>\n",
              "      <td>61489200</td>\n",
              "      <td>0.447711</td>\n",
              "      <td>0.020017</td>\n",
              "      <td>-4.190001</td>\n",
              "      <td>NaN</td>\n",
              "      <td>0.041393</td>\n",
              "      <td>25.870001</td>\n",
              "      <td>-0.022538</td>\n",
              "      <td>0</td>\n",
              "    </tr>\n",
              "    <tr>\n",
              "      <th>4</th>\n",
              "      <td>27.000000</td>\n",
              "      <td>26159500</td>\n",
              "      <td>-0.574568</td>\n",
              "      <td>0.019960</td>\n",
              "      <td>-5.690001</td>\n",
              "      <td>NaN</td>\n",
              "      <td>-0.096910</td>\n",
              "      <td>26.809999</td>\n",
              "      <td>0.050018</td>\n",
              "      <td>1</td>\n",
              "    </tr>\n",
              "  </tbody>\n",
              "</table>\n",
              "</div>\n",
              "      <button class=\"colab-df-convert\" onclick=\"convertToInteractive('df-772a8525-f3be-4b22-bbd6-dd3d4f200f19')\"\n",
              "              title=\"Convert this dataframe to an interactive table.\"\n",
              "              style=\"display:none;\">\n",
              "        \n",
              "  <svg xmlns=\"http://www.w3.org/2000/svg\" height=\"24px\"viewBox=\"0 0 24 24\"\n",
              "       width=\"24px\">\n",
              "    <path d=\"M0 0h24v24H0V0z\" fill=\"none\"/>\n",
              "    <path d=\"M18.56 5.44l.94 2.06.94-2.06 2.06-.94-2.06-.94-.94-2.06-.94 2.06-2.06.94zm-11 1L8.5 8.5l.94-2.06 2.06-.94-2.06-.94L8.5 2.5l-.94 2.06-2.06.94zm10 10l.94 2.06.94-2.06 2.06-.94-2.06-.94-.94-2.06-.94 2.06-2.06.94z\"/><path d=\"M17.41 7.96l-1.37-1.37c-.4-.4-.92-.59-1.43-.59-.52 0-1.04.2-1.43.59L10.3 9.45l-7.72 7.72c-.78.78-.78 2.05 0 2.83L4 21.41c.39.39.9.59 1.41.59.51 0 1.02-.2 1.41-.59l7.78-7.78 2.81-2.81c.8-.78.8-2.07 0-2.86zM5.41 20L4 18.59l7.72-7.72 1.47 1.35L5.41 20z\"/>\n",
              "  </svg>\n",
              "      </button>\n",
              "      \n",
              "  <style>\n",
              "    .colab-df-container {\n",
              "      display:flex;\n",
              "      flex-wrap:wrap;\n",
              "      gap: 12px;\n",
              "    }\n",
              "\n",
              "    .colab-df-convert {\n",
              "      background-color: #E8F0FE;\n",
              "      border: none;\n",
              "      border-radius: 50%;\n",
              "      cursor: pointer;\n",
              "      display: none;\n",
              "      fill: #1967D2;\n",
              "      height: 32px;\n",
              "      padding: 0 0 0 0;\n",
              "      width: 32px;\n",
              "    }\n",
              "\n",
              "    .colab-df-convert:hover {\n",
              "      background-color: #E2EBFA;\n",
              "      box-shadow: 0px 1px 2px rgba(60, 64, 67, 0.3), 0px 1px 3px 1px rgba(60, 64, 67, 0.15);\n",
              "      fill: #174EA6;\n",
              "    }\n",
              "\n",
              "    [theme=dark] .colab-df-convert {\n",
              "      background-color: #3B4455;\n",
              "      fill: #D2E3FC;\n",
              "    }\n",
              "\n",
              "    [theme=dark] .colab-df-convert:hover {\n",
              "      background-color: #434B5C;\n",
              "      box-shadow: 0px 1px 3px 1px rgba(0, 0, 0, 0.15);\n",
              "      filter: drop-shadow(0px 1px 2px rgba(0, 0, 0, 0.3));\n",
              "      fill: #FFFFFF;\n",
              "    }\n",
              "  </style>\n",
              "\n",
              "      <script>\n",
              "        const buttonEl =\n",
              "          document.querySelector('#df-772a8525-f3be-4b22-bbd6-dd3d4f200f19 button.colab-df-convert');\n",
              "        buttonEl.style.display =\n",
              "          google.colab.kernel.accessAllowed ? 'block' : 'none';\n",
              "\n",
              "        async function convertToInteractive(key) {\n",
              "          const element = document.querySelector('#df-772a8525-f3be-4b22-bbd6-dd3d4f200f19');\n",
              "          const dataTable =\n",
              "            await google.colab.kernel.invokeFunction('convertToInteractive',\n",
              "                                                     [key], {});\n",
              "          if (!dataTable) return;\n",
              "\n",
              "          const docLinkHtml = 'Like what you see? Visit the ' +\n",
              "            '<a target=\"_blank\" href=https://colab.research.google.com/notebooks/data_table.ipynb>data table notebook</a>'\n",
              "            + ' to learn more about interactive tables.';\n",
              "          element.innerHTML = '';\n",
              "          dataTable['output_type'] = 'display_data';\n",
              "          await google.colab.output.renderOutput(dataTable, element);\n",
              "          const docLink = document.createElement('div');\n",
              "          docLink.innerHTML = docLinkHtml;\n",
              "          element.appendChild(docLink);\n",
              "        }\n",
              "      </script>\n",
              "    </div>\n",
              "  </div>\n",
              "  "
            ]
          },
          "metadata": {},
          "execution_count": 69
        }
      ]
    },
    {
      "cell_type": "code",
      "execution_count": 70,
      "metadata": {
        "id": "nZVCoBzbZUDL"
      },
      "outputs": [],
      "source": [
        "#Since we are getting an error suggesting nans or infs or out of range nums exist.\n",
        "#since we know no nulls are present we are trying to remove any infs if present.\n",
        "data.replace([np.inf, -np.inf], np.nan)\n",
        "\n",
        "data.dropna(inplace=True)"
      ]
    },
    {
      "cell_type": "code",
      "source": [
        "data.head()"
      ],
      "metadata": {
        "colab": {
          "base_uri": "https://localhost:8080/",
          "height": 206
        },
        "id": "FtvSw5ENi6bf",
        "outputId": "c4a947c6-8e4e-4078-c55c-a77ee2183e1d"
      },
      "execution_count": 71,
      "outputs": [
        {
          "output_type": "execute_result",
          "data": {
            "text/plain": [
              "         Open    Volume  VolumeChange      CAPM  Momentum  MovingAverage_50  \\\n",
              "40  24.000000  29285900     -0.762101  0.019954 -5.100000           29.8390   \n",
              "41  23.370001  56179400      0.918309  0.019914 -6.380001           29.5086   \n",
              "42  21.500000  44604400     -0.206036  0.019939 -8.230001           29.2456   \n",
              "43  20.770000  56374500      0.263878  0.019937 -8.959999           29.0264   \n",
              "44  20.360001  80647000      0.430558  0.020034 -7.670000           28.8082   \n",
              "\n",
              "    Volatility  PriceLag_1  ReturnLag_5  PriceDiff_Negative  \n",
              "40   -0.171770   23.709999    -0.000348                   1  \n",
              "41    0.069421   23.150000    -0.010435                   1  \n",
              "42   -0.306860   21.709999     0.031283                   1  \n",
              "43   -0.167491   20.879999    -0.084867                   1  \n",
              "44    0.178017   20.040001    -0.116946                   0  "
            ],
            "text/html": [
              "\n",
              "  <div id=\"df-64e19265-9fa7-4269-807d-836f1ee318db\">\n",
              "    <div class=\"colab-df-container\">\n",
              "      <div>\n",
              "<style scoped>\n",
              "    .dataframe tbody tr th:only-of-type {\n",
              "        vertical-align: middle;\n",
              "    }\n",
              "\n",
              "    .dataframe tbody tr th {\n",
              "        vertical-align: top;\n",
              "    }\n",
              "\n",
              "    .dataframe thead th {\n",
              "        text-align: right;\n",
              "    }\n",
              "</style>\n",
              "<table border=\"1\" class=\"dataframe\">\n",
              "  <thead>\n",
              "    <tr style=\"text-align: right;\">\n",
              "      <th></th>\n",
              "      <th>Open</th>\n",
              "      <th>Volume</th>\n",
              "      <th>VolumeChange</th>\n",
              "      <th>CAPM</th>\n",
              "      <th>Momentum</th>\n",
              "      <th>MovingAverage_50</th>\n",
              "      <th>Volatility</th>\n",
              "      <th>PriceLag_1</th>\n",
              "      <th>ReturnLag_5</th>\n",
              "      <th>PriceDiff_Negative</th>\n",
              "    </tr>\n",
              "  </thead>\n",
              "  <tbody>\n",
              "    <tr>\n",
              "      <th>40</th>\n",
              "      <td>24.000000</td>\n",
              "      <td>29285900</td>\n",
              "      <td>-0.762101</td>\n",
              "      <td>0.019954</td>\n",
              "      <td>-5.100000</td>\n",
              "      <td>29.8390</td>\n",
              "      <td>-0.171770</td>\n",
              "      <td>23.709999</td>\n",
              "      <td>-0.000348</td>\n",
              "      <td>1</td>\n",
              "    </tr>\n",
              "    <tr>\n",
              "      <th>41</th>\n",
              "      <td>23.370001</td>\n",
              "      <td>56179400</td>\n",
              "      <td>0.918309</td>\n",
              "      <td>0.019914</td>\n",
              "      <td>-6.380001</td>\n",
              "      <td>29.5086</td>\n",
              "      <td>0.069421</td>\n",
              "      <td>23.150000</td>\n",
              "      <td>-0.010435</td>\n",
              "      <td>1</td>\n",
              "    </tr>\n",
              "    <tr>\n",
              "      <th>42</th>\n",
              "      <td>21.500000</td>\n",
              "      <td>44604400</td>\n",
              "      <td>-0.206036</td>\n",
              "      <td>0.019939</td>\n",
              "      <td>-8.230001</td>\n",
              "      <td>29.2456</td>\n",
              "      <td>-0.306860</td>\n",
              "      <td>21.709999</td>\n",
              "      <td>0.031283</td>\n",
              "      <td>1</td>\n",
              "    </tr>\n",
              "    <tr>\n",
              "      <th>43</th>\n",
              "      <td>20.770000</td>\n",
              "      <td>56374500</td>\n",
              "      <td>0.263878</td>\n",
              "      <td>0.019937</td>\n",
              "      <td>-8.959999</td>\n",
              "      <td>29.0264</td>\n",
              "      <td>-0.167491</td>\n",
              "      <td>20.879999</td>\n",
              "      <td>-0.084867</td>\n",
              "      <td>1</td>\n",
              "    </tr>\n",
              "    <tr>\n",
              "      <th>44</th>\n",
              "      <td>20.360001</td>\n",
              "      <td>80647000</td>\n",
              "      <td>0.430558</td>\n",
              "      <td>0.020034</td>\n",
              "      <td>-7.670000</td>\n",
              "      <td>28.8082</td>\n",
              "      <td>0.178017</td>\n",
              "      <td>20.040001</td>\n",
              "      <td>-0.116946</td>\n",
              "      <td>0</td>\n",
              "    </tr>\n",
              "  </tbody>\n",
              "</table>\n",
              "</div>\n",
              "      <button class=\"colab-df-convert\" onclick=\"convertToInteractive('df-64e19265-9fa7-4269-807d-836f1ee318db')\"\n",
              "              title=\"Convert this dataframe to an interactive table.\"\n",
              "              style=\"display:none;\">\n",
              "        \n",
              "  <svg xmlns=\"http://www.w3.org/2000/svg\" height=\"24px\"viewBox=\"0 0 24 24\"\n",
              "       width=\"24px\">\n",
              "    <path d=\"M0 0h24v24H0V0z\" fill=\"none\"/>\n",
              "    <path d=\"M18.56 5.44l.94 2.06.94-2.06 2.06-.94-2.06-.94-.94-2.06-.94 2.06-2.06.94zm-11 1L8.5 8.5l.94-2.06 2.06-.94-2.06-.94L8.5 2.5l-.94 2.06-2.06.94zm10 10l.94 2.06.94-2.06 2.06-.94-2.06-.94-.94-2.06-.94 2.06-2.06.94z\"/><path d=\"M17.41 7.96l-1.37-1.37c-.4-.4-.92-.59-1.43-.59-.52 0-1.04.2-1.43.59L10.3 9.45l-7.72 7.72c-.78.78-.78 2.05 0 2.83L4 21.41c.39.39.9.59 1.41.59.51 0 1.02-.2 1.41-.59l7.78-7.78 2.81-2.81c.8-.78.8-2.07 0-2.86zM5.41 20L4 18.59l7.72-7.72 1.47 1.35L5.41 20z\"/>\n",
              "  </svg>\n",
              "      </button>\n",
              "      \n",
              "  <style>\n",
              "    .colab-df-container {\n",
              "      display:flex;\n",
              "      flex-wrap:wrap;\n",
              "      gap: 12px;\n",
              "    }\n",
              "\n",
              "    .colab-df-convert {\n",
              "      background-color: #E8F0FE;\n",
              "      border: none;\n",
              "      border-radius: 50%;\n",
              "      cursor: pointer;\n",
              "      display: none;\n",
              "      fill: #1967D2;\n",
              "      height: 32px;\n",
              "      padding: 0 0 0 0;\n",
              "      width: 32px;\n",
              "    }\n",
              "\n",
              "    .colab-df-convert:hover {\n",
              "      background-color: #E2EBFA;\n",
              "      box-shadow: 0px 1px 2px rgba(60, 64, 67, 0.3), 0px 1px 3px 1px rgba(60, 64, 67, 0.15);\n",
              "      fill: #174EA6;\n",
              "    }\n",
              "\n",
              "    [theme=dark] .colab-df-convert {\n",
              "      background-color: #3B4455;\n",
              "      fill: #D2E3FC;\n",
              "    }\n",
              "\n",
              "    [theme=dark] .colab-df-convert:hover {\n",
              "      background-color: #434B5C;\n",
              "      box-shadow: 0px 1px 3px 1px rgba(0, 0, 0, 0.15);\n",
              "      filter: drop-shadow(0px 1px 2px rgba(0, 0, 0, 0.3));\n",
              "      fill: #FFFFFF;\n",
              "    }\n",
              "  </style>\n",
              "\n",
              "      <script>\n",
              "        const buttonEl =\n",
              "          document.querySelector('#df-64e19265-9fa7-4269-807d-836f1ee318db button.colab-df-convert');\n",
              "        buttonEl.style.display =\n",
              "          google.colab.kernel.accessAllowed ? 'block' : 'none';\n",
              "\n",
              "        async function convertToInteractive(key) {\n",
              "          const element = document.querySelector('#df-64e19265-9fa7-4269-807d-836f1ee318db');\n",
              "          const dataTable =\n",
              "            await google.colab.kernel.invokeFunction('convertToInteractive',\n",
              "                                                     [key], {});\n",
              "          if (!dataTable) return;\n",
              "\n",
              "          const docLinkHtml = 'Like what you see? Visit the ' +\n",
              "            '<a target=\"_blank\" href=https://colab.research.google.com/notebooks/data_table.ipynb>data table notebook</a>'\n",
              "            + ' to learn more about interactive tables.';\n",
              "          element.innerHTML = '';\n",
              "          dataTable['output_type'] = 'display_data';\n",
              "          await google.colab.output.renderOutput(dataTable, element);\n",
              "          const docLink = document.createElement('div');\n",
              "          docLink.innerHTML = docLinkHtml;\n",
              "          element.appendChild(docLink);\n",
              "        }\n",
              "      </script>\n",
              "    </div>\n",
              "  </div>\n",
              "  "
            ]
          },
          "metadata": {},
          "execution_count": 71
        }
      ]
    },
    {
      "cell_type": "code",
      "source": [
        "from sklearn.model_selection import train_test_split\n",
        "from sklearn.preprocessing import StandardScaler\n",
        "from sklearn.linear_model import LogisticRegression\n",
        "from sklearn.ensemble import RandomForestClassifier\n",
        "from sklearn.metrics import confusion_matrix\n",
        "\n",
        "# Split the data into features (X) and target variable (y)\n",
        "X = data.drop('PriceDiff_Negative', axis=1)\n",
        "y = data['PriceDiff_Negative']\n",
        "\n",
        "from sklearn.preprocessing import StandardScaler\n",
        "\n",
        "scaler = StandardScaler()\n",
        "scaled_data = scaler.fit_transform(X)\n",
        "X = pd.DataFrame(scaled_data, columns=X.columns)\n",
        "\n",
        "# Split the data into training and testing sets\n",
        "X_train, X_test, y_train, y_test = train_test_split(X, y, test_size=0.2, random_state=42)\n",
        "\n",
        "# Scale the input features\n",
        "scaler = StandardScaler()\n",
        "X_train_scaled = scaler.fit_transform(X_train)\n",
        "X_test_scaled = scaler.transform(X_test)\n",
        "\n",
        "# Logistic Regression\n",
        "logreg = LogisticRegression(max_iter=1000)\n",
        "logreg.fit(X_train_scaled, y_train)\n",
        "logreg_pred = logreg.predict(X_test_scaled)\n",
        "logreg_cm = confusion_matrix(y_test, logreg_pred)\n",
        "print(\"Logistic Regression Confusion Matrix:\")\n",
        "print(logreg_cm)\n",
        "\n",
        "# Random Forest\n",
        "rf = RandomForestClassifier()\n",
        "rf.fit(X_train, y_train)\n",
        "rf_pred = rf.predict(X_test)\n",
        "rf_cm = confusion_matrix(y_test, rf_pred)\n",
        "print(\"Random Forest Confusion Matrix:\")\n",
        "print(rf_cm)\n"
      ],
      "metadata": {
        "colab": {
          "base_uri": "https://localhost:8080/"
        },
        "id": "_bOcID9sb5Wj",
        "outputId": "b2d4e99a-0df9-4daf-ee2d-bba7def852e8"
      },
      "execution_count": 72,
      "outputs": [
        {
          "output_type": "stream",
          "name": "stdout",
          "text": [
            "Logistic Regression Confusion Matrix:\n",
            "[[240  35]\n",
            " [ 39 227]]\n",
            "Random Forest Confusion Matrix:\n",
            "[[236  39]\n",
            " [ 42 224]]\n"
          ]
        }
      ]
    },
    {
      "cell_type": "code",
      "source": [
        "from sklearn.model_selection import train_test_split\n",
        "from xgboost import XGBClassifier\n",
        "from sklearn.metrics import confusion_matrix\n",
        "\n",
        "# Split the data into features (X) and target variable (y)\n",
        "X = data.drop('PriceDiff_Negative', axis=1)\n",
        "y = data['PriceDiff_Negative']\n",
        "\n",
        "# Split the data into training and testing sets\n",
        "X_train, X_test, y_train, y_test = train_test_split(X, y, test_size=0.2, random_state=42)\n",
        "\n",
        "# XGBoost\n",
        "xgb = XGBClassifier()\n",
        "xgb.fit(X_train, y_train)\n",
        "xgb_pred = xgb.predict(X_test)\n",
        "xgb_cm = confusion_matrix(y_test, xgb_pred)\n",
        "print(\"XGBoost Confusion Matrix:\")\n",
        "print(xgb_cm)\n",
        "\n",
        "\n"
      ],
      "metadata": {
        "colab": {
          "base_uri": "https://localhost:8080/"
        },
        "id": "uD7lvnQQcf4H",
        "outputId": "6317bab8-957d-4845-e54c-9330a413b95f"
      },
      "execution_count": 75,
      "outputs": [
        {
          "output_type": "stream",
          "name": "stdout",
          "text": [
            "XGBoost Confusion Matrix:\n",
            "[[237  38]\n",
            " [ 46 220]]\n"
          ]
        }
      ]
    },
    {
      "cell_type": "code",
      "source": [
        "from sklearn.model_selection import cross_val_score, GridSearchCV\n"
      ],
      "metadata": {
        "id": "zOUgwUMMdLc8"
      },
      "execution_count": 76,
      "outputs": []
    },
    {
      "cell_type": "code",
      "source": [
        "logreg_params = {'C': [0.1, 1.0, 10.0]}\n",
        "rf_params = {'n_estimators': [100, 200, 300], 'max_depth': [None, 5, 10]}\n"
      ],
      "metadata": {
        "id": "l6N_2gzDdLaM"
      },
      "execution_count": 77,
      "outputs": []
    },
    {
      "cell_type": "code",
      "source": [
        "logreg = LogisticRegression(max_iter=1000)\n",
        "logreg_grid = GridSearchCV(logreg, logreg_params, cv=5)\n",
        "logreg_grid.fit(X_train, y_train)\n",
        "\n",
        "# Print the best hyperparameters and best score\n",
        "print(\"Logistic Regression - Best Hyperparameters: \", logreg_grid.best_params_)\n",
        "print(\"Logistic Regression - Best Score: \", logreg_grid.best_score_)\n"
      ],
      "metadata": {
        "colab": {
          "base_uri": "https://localhost:8080/"
        },
        "id": "WGQf4mAvdLXE",
        "outputId": "866df638-f8b6-4433-8262-5e876237a0b3"
      },
      "execution_count": 78,
      "outputs": [
        {
          "output_type": "stream",
          "name": "stdout",
          "text": [
            "Logistic Regression - Best Hyperparameters:  {'C': 0.1}\n",
            "Logistic Regression - Best Score:  0.5143251218886322\n"
          ]
        }
      ]
    },
    {
      "cell_type": "code",
      "source": [
        "rf = RandomForestClassifier()\n",
        "rf_grid = GridSearchCV(rf, rf_params, cv=5)\n",
        "rf_grid.fit(X_train, y_train)\n",
        "\n",
        "# Print the best hyperparameters and best score\n",
        "print(\"Random Forest - Best Hyperparameters: \", rf_grid.best_params_)\n",
        "print(\"Random Forest - Best Score: \", rf_grid.best_score_)\n"
      ],
      "metadata": {
        "colab": {
          "base_uri": "https://localhost:8080/"
        },
        "id": "i3usaRzIdLMu",
        "outputId": "ef75d7e6-5573-4390-b61d-e2ed72a3ae6f"
      },
      "execution_count": 79,
      "outputs": [
        {
          "output_type": "stream",
          "name": "stdout",
          "text": [
            "Random Forest - Best Hyperparameters:  {'max_depth': 5, 'n_estimators': 300}\n",
            "Random Forest - Best Score:  0.8470351124796853\n"
          ]
        }
      ]
    },
    {
      "cell_type": "code",
      "source": [
        "logreg_best = LogisticRegression(**logreg_grid.best_params_)\n",
        "logreg_best.fit(X_train, y_train)\n",
        "logreg_pred = logreg_best.predict(X_test)\n",
        "logreg_cm = confusion_matrix(y_test, logreg_pred)\n",
        "print(\"Logistic Regression Confusion Matrix:\")\n",
        "print(logreg_cm)\n",
        "\n",
        "rf_best = RandomForestClassifier(**rf_grid.best_params_)\n",
        "rf_best.fit(X_train, y_train)\n",
        "rf_pred = rf_best.predict(X_test)\n",
        "rf_cm = confusion_matrix(y_test, rf_pred)\n",
        "print(\"Random Forest Confusion Matrix:\")\n",
        "print(rf_cm)\n"
      ],
      "metadata": {
        "colab": {
          "base_uri": "https://localhost:8080/"
        },
        "id": "rdGz09xvdLJ9",
        "outputId": "a0865af9-a7c5-4197-8b4c-032e33ccba01"
      },
      "execution_count": 80,
      "outputs": [
        {
          "output_type": "stream",
          "name": "stdout",
          "text": [
            "Logistic Regression Confusion Matrix:\n",
            "[[275   0]\n",
            " [266   0]]\n",
            "Random Forest Confusion Matrix:\n",
            "[[238  37]\n",
            " [ 41 225]]\n"
          ]
        }
      ]
    },
    {
      "cell_type": "code",
      "source": [
        "# Plot Confusion Matrix for Random Forest\n",
        "plt.figure(figsize=(8, 6))\n",
        "sns.heatmap(rf_cm, annot=True, fmt=\"d\", cmap=\"Blues\")\n",
        "plt.title(\"Random Forest Confusion Matrix\")\n",
        "plt.xlabel(\"Predicted Labels\")\n",
        "plt.ylabel(\"True Labels\")\n",
        "plt.show()"
      ],
      "metadata": {
        "colab": {
          "base_uri": "https://localhost:8080/",
          "height": 564
        },
        "id": "13CkikAdkzGM",
        "outputId": "ae113f2f-9414-48d7-b3ca-7b173ee3c0c8"
      },
      "execution_count": 81,
      "outputs": [
        {
          "output_type": "display_data",
          "data": {
            "text/plain": [
              "<Figure size 800x600 with 2 Axes>"
            ],
            "image/png": "[encoded data removed]"
          },
          "metadata": {}
        }
      ]
    }
  ],
  "metadata": {
    "colab": {
      "provenance": []
    },
    "kernelspec": {
      "display_name": "Python 3",
      "name": "python3"
    },
    "language_info": {
      "name": "python"
    }
  },
  "nbformat": 4,
  "nbformat_minor": 0
}